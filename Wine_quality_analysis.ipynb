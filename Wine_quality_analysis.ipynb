{
 "cells": [
  {
   "cell_type": "markdown",
   "metadata": {},
   "source": [
    "# Wine quality"
   ]
  },
  {
   "cell_type": "code",
   "execution_count": 1,
   "metadata": {},
   "outputs": [],
   "source": [
    "import pandas as pd\n",
    "import statistics as st\n",
    "import numpy as np\n",
    "import matplotlib.pyplot as plt"
   ]
  },
  {
   "cell_type": "code",
   "execution_count": 2,
   "metadata": {},
   "outputs": [
    {
     "data": {
      "text/html": [
       "<div>\n",
       "<style scoped>\n",
       "    .dataframe tbody tr th:only-of-type {\n",
       "        vertical-align: middle;\n",
       "    }\n",
       "\n",
       "    .dataframe tbody tr th {\n",
       "        vertical-align: top;\n",
       "    }\n",
       "\n",
       "    .dataframe thead th {\n",
       "        text-align: right;\n",
       "    }\n",
       "</style>\n",
       "<table border=\"1\" class=\"dataframe\">\n",
       "  <thead>\n",
       "    <tr style=\"text-align: right;\">\n",
       "      <th></th>\n",
       "      <th>fixed acidity</th>\n",
       "      <th>volatile acidity</th>\n",
       "      <th>citric acid</th>\n",
       "      <th>residual sugar</th>\n",
       "      <th>chlorides</th>\n",
       "      <th>free sulfur dioxide</th>\n",
       "      <th>total sulfur dioxide</th>\n",
       "      <th>density</th>\n",
       "      <th>pH</th>\n",
       "      <th>sulphates</th>\n",
       "      <th>alcohol</th>\n",
       "      <th>quality</th>\n",
       "    </tr>\n",
       "  </thead>\n",
       "  <tbody>\n",
       "    <tr>\n",
       "      <th>0</th>\n",
       "      <td>7.4</td>\n",
       "      <td>0.70</td>\n",
       "      <td>0.00</td>\n",
       "      <td>1.9</td>\n",
       "      <td>0.076</td>\n",
       "      <td>11.0</td>\n",
       "      <td>34.0</td>\n",
       "      <td>0.9978</td>\n",
       "      <td>3.51</td>\n",
       "      <td>0.56</td>\n",
       "      <td>9.4</td>\n",
       "      <td>5</td>\n",
       "    </tr>\n",
       "    <tr>\n",
       "      <th>1</th>\n",
       "      <td>7.8</td>\n",
       "      <td>0.88</td>\n",
       "      <td>0.00</td>\n",
       "      <td>2.6</td>\n",
       "      <td>0.098</td>\n",
       "      <td>25.0</td>\n",
       "      <td>67.0</td>\n",
       "      <td>0.9968</td>\n",
       "      <td>3.20</td>\n",
       "      <td>0.68</td>\n",
       "      <td>9.8</td>\n",
       "      <td>5</td>\n",
       "    </tr>\n",
       "    <tr>\n",
       "      <th>2</th>\n",
       "      <td>7.8</td>\n",
       "      <td>0.76</td>\n",
       "      <td>0.04</td>\n",
       "      <td>2.3</td>\n",
       "      <td>0.092</td>\n",
       "      <td>15.0</td>\n",
       "      <td>54.0</td>\n",
       "      <td>0.9970</td>\n",
       "      <td>3.26</td>\n",
       "      <td>0.65</td>\n",
       "      <td>9.8</td>\n",
       "      <td>5</td>\n",
       "    </tr>\n",
       "    <tr>\n",
       "      <th>3</th>\n",
       "      <td>11.2</td>\n",
       "      <td>0.28</td>\n",
       "      <td>0.56</td>\n",
       "      <td>1.9</td>\n",
       "      <td>0.075</td>\n",
       "      <td>17.0</td>\n",
       "      <td>60.0</td>\n",
       "      <td>0.9980</td>\n",
       "      <td>3.16</td>\n",
       "      <td>0.58</td>\n",
       "      <td>9.8</td>\n",
       "      <td>6</td>\n",
       "    </tr>\n",
       "    <tr>\n",
       "      <th>4</th>\n",
       "      <td>7.4</td>\n",
       "      <td>0.70</td>\n",
       "      <td>0.00</td>\n",
       "      <td>1.9</td>\n",
       "      <td>0.076</td>\n",
       "      <td>11.0</td>\n",
       "      <td>34.0</td>\n",
       "      <td>0.9978</td>\n",
       "      <td>3.51</td>\n",
       "      <td>0.56</td>\n",
       "      <td>9.4</td>\n",
       "      <td>5</td>\n",
       "    </tr>\n",
       "  </tbody>\n",
       "</table>\n",
       "</div>"
      ],
      "text/plain": [
       "   fixed acidity  volatile acidity  citric acid  residual sugar  chlorides  \\\n",
       "0            7.4              0.70         0.00             1.9      0.076   \n",
       "1            7.8              0.88         0.00             2.6      0.098   \n",
       "2            7.8              0.76         0.04             2.3      0.092   \n",
       "3           11.2              0.28         0.56             1.9      0.075   \n",
       "4            7.4              0.70         0.00             1.9      0.076   \n",
       "\n",
       "   free sulfur dioxide  total sulfur dioxide  density    pH  sulphates  \\\n",
       "0                 11.0                  34.0   0.9978  3.51       0.56   \n",
       "1                 25.0                  67.0   0.9968  3.20       0.68   \n",
       "2                 15.0                  54.0   0.9970  3.26       0.65   \n",
       "3                 17.0                  60.0   0.9980  3.16       0.58   \n",
       "4                 11.0                  34.0   0.9978  3.51       0.56   \n",
       "\n",
       "   alcohol  quality  \n",
       "0      9.4        5  \n",
       "1      9.8        5  \n",
       "2      9.8        5  \n",
       "3      9.8        6  \n",
       "4      9.4        5  "
      ]
     },
     "execution_count": 2,
     "metadata": {},
     "output_type": "execute_result"
    }
   ],
   "source": [
    "red_dataset = pd.read_csv(r'C:\\Users\\giovanni\\Desktop\\datasets\\wine_quality\\winequality-red.csv', sep=';')\n",
    "red_dataset.head()"
   ]
  },
  {
   "cell_type": "code",
   "execution_count": 3,
   "metadata": {},
   "outputs": [],
   "source": [
    "#https://medium.datadriveninvestor.com/finding-outliers-in-dataset-using-python-efc3fce6ce32\n",
    "def detect_outliers(data):\n",
    "    outliers = []\n",
    "    threshold=3\n",
    "    mean = np.mean(data)\n",
    "    std =np.std(data)\n",
    "    for y in data:\n",
    "        z_score= (y - mean)/std \n",
    "        if np.abs(z_score) > threshold:\n",
    "            outliers.append(y)\n",
    "    return outliers"
   ]
  },
  {
   "cell_type": "code",
   "execution_count": 4,
   "metadata": {},
   "outputs": [],
   "source": [
    "def summary_table(dataset):\n",
    "    mean = []\n",
    "    median = []\n",
    "    variance = []\n",
    "    std_dev = []\n",
    "    outliers_number = []\n",
    "    outliers_values = []\n",
    "    for column in list(dataset):\n",
    "        mean.append(st.mean(dataset[column][:]))\n",
    "        median.append(st.median(dataset[column][:]))\n",
    "        variance.append(st.variance(dataset[column][:]))\n",
    "        std_dev.append(st.stdev(dataset[column][:]))\n",
    "        outliers_number.append(len(detect_outliers(dataset[column][:])))\n",
    "        outliers_values.append(detect_outliers(dataset[column][:]))\n",
    "    dataset_dic = {}\n",
    "    dataset_dic['mean'] = mean\n",
    "    dataset_dic['median'] = median\n",
    "    dataset_dic['variance'] = variance\n",
    "    dataset_dic['standard_deviation'] = std_dev\n",
    "    dataset_dic['outliers_number'] = outliers_number\n",
    "    dataset_dic['outliers_values'] = outliers_values\n",
    "    summary_dataframe = pd.DataFrame(dataset_dic)\n",
    "    summary_dataframe.index = list(dataset)\n",
    "    return summary_dataframe"
   ]
  },
  {
   "cell_type": "code",
   "execution_count": 5,
   "metadata": {},
   "outputs": [
    {
     "data": {
      "text/html": [
       "<div>\n",
       "<style scoped>\n",
       "    .dataframe tbody tr th:only-of-type {\n",
       "        vertical-align: middle;\n",
       "    }\n",
       "\n",
       "    .dataframe tbody tr th {\n",
       "        vertical-align: top;\n",
       "    }\n",
       "\n",
       "    .dataframe thead th {\n",
       "        text-align: right;\n",
       "    }\n",
       "</style>\n",
       "<table border=\"1\" class=\"dataframe\">\n",
       "  <thead>\n",
       "    <tr style=\"text-align: right;\">\n",
       "      <th></th>\n",
       "      <th>mean</th>\n",
       "      <th>median</th>\n",
       "      <th>variance</th>\n",
       "      <th>standard_deviation</th>\n",
       "      <th>outliers_number</th>\n",
       "      <th>outliers_values</th>\n",
       "    </tr>\n",
       "  </thead>\n",
       "  <tbody>\n",
       "    <tr>\n",
       "      <th>fixed acidity</th>\n",
       "      <td>8.319637</td>\n",
       "      <td>7.90000</td>\n",
       "      <td>3.031416</td>\n",
       "      <td>1.741096</td>\n",
       "      <td>12</td>\n",
       "      <td>[15.0, 15.0, 13.8, 14.0, 13.7, 13.7, 15.6, 14....</td>\n",
       "    </tr>\n",
       "    <tr>\n",
       "      <th>volatile acidity</th>\n",
       "      <td>0.527821</td>\n",
       "      <td>0.52000</td>\n",
       "      <td>0.032062</td>\n",
       "      <td>0.179060</td>\n",
       "      <td>10</td>\n",
       "      <td>[1.13, 1.07, 1.33, 1.33, 1.09, 1.24, 1.185, 1....</td>\n",
       "    </tr>\n",
       "    <tr>\n",
       "      <th>citric acid</th>\n",
       "      <td>0.270976</td>\n",
       "      <td>0.26000</td>\n",
       "      <td>0.037947</td>\n",
       "      <td>0.194801</td>\n",
       "      <td>1</td>\n",
       "      <td>[1.0]</td>\n",
       "    </tr>\n",
       "    <tr>\n",
       "      <th>residual sugar</th>\n",
       "      <td>2.538806</td>\n",
       "      <td>2.20000</td>\n",
       "      <td>1.987897</td>\n",
       "      <td>1.409928</td>\n",
       "      <td>30</td>\n",
       "      <td>[10.7, 7.3, 7.2, 7.0, 11.0, 11.0, 7.9, 7.9, 15...</td>\n",
       "    </tr>\n",
       "    <tr>\n",
       "      <th>chlorides</th>\n",
       "      <td>0.087467</td>\n",
       "      <td>0.07900</td>\n",
       "      <td>0.002215</td>\n",
       "      <td>0.047065</td>\n",
       "      <td>31</td>\n",
       "      <td>[0.368, 0.341, 0.332, 0.46399999999999997, 0.4...</td>\n",
       "    </tr>\n",
       "    <tr>\n",
       "      <th>free sulfur dioxide</th>\n",
       "      <td>15.874922</td>\n",
       "      <td>14.00000</td>\n",
       "      <td>109.414884</td>\n",
       "      <td>10.460157</td>\n",
       "      <td>22</td>\n",
       "      <td>[52.0, 51.0, 50.0, 68.0, 68.0, 54.0, 53.0, 52....</td>\n",
       "    </tr>\n",
       "    <tr>\n",
       "      <th>total sulfur dioxide</th>\n",
       "      <td>46.467792</td>\n",
       "      <td>38.00000</td>\n",
       "      <td>1082.102373</td>\n",
       "      <td>32.895324</td>\n",
       "      <td>15</td>\n",
       "      <td>[148.0, 153.0, 165.0, 151.0, 149.0, 147.0, 148...</td>\n",
       "    </tr>\n",
       "    <tr>\n",
       "      <th>density</th>\n",
       "      <td>0.996747</td>\n",
       "      <td>0.99675</td>\n",
       "      <td>0.000004</td>\n",
       "      <td>0.001887</td>\n",
       "      <td>18</td>\n",
       "      <td>[1.0032, 1.0026, 1.00315, 1.00315, 1.00315, 1....</td>\n",
       "    </tr>\n",
       "    <tr>\n",
       "      <th>pH</th>\n",
       "      <td>3.311113</td>\n",
       "      <td>3.31000</td>\n",
       "      <td>0.023835</td>\n",
       "      <td>0.154386</td>\n",
       "      <td>8</td>\n",
       "      <td>[3.9, 3.85, 2.74, 3.9, 3.78, 3.78, 4.01, 4.01]</td>\n",
       "    </tr>\n",
       "    <tr>\n",
       "      <th>sulphates</th>\n",
       "      <td>0.658149</td>\n",
       "      <td>0.62000</td>\n",
       "      <td>0.028733</td>\n",
       "      <td>0.169507</td>\n",
       "      <td>27</td>\n",
       "      <td>[1.56, 1.28, 1.2, 1.28, 1.95, 1.22, 1.95, 1.98...</td>\n",
       "    </tr>\n",
       "    <tr>\n",
       "      <th>alcohol</th>\n",
       "      <td>10.422983</td>\n",
       "      <td>10.20000</td>\n",
       "      <td>1.135647</td>\n",
       "      <td>1.065668</td>\n",
       "      <td>8</td>\n",
       "      <td>[14.0, 14.0, 14.0, 14.0, 14.9, 14.0, 14.0, 14.0]</td>\n",
       "    </tr>\n",
       "    <tr>\n",
       "      <th>quality</th>\n",
       "      <td>5.636023</td>\n",
       "      <td>6.00000</td>\n",
       "      <td>0.652168</td>\n",
       "      <td>0.807569</td>\n",
       "      <td>10</td>\n",
       "      <td>[3, 3, 3, 3, 3, 3, 3, 3, 3, 3]</td>\n",
       "    </tr>\n",
       "  </tbody>\n",
       "</table>\n",
       "</div>"
      ],
      "text/plain": [
       "                           mean    median     variance  standard_deviation  \\\n",
       "fixed acidity          8.319637   7.90000     3.031416            1.741096   \n",
       "volatile acidity       0.527821   0.52000     0.032062            0.179060   \n",
       "citric acid            0.270976   0.26000     0.037947            0.194801   \n",
       "residual sugar         2.538806   2.20000     1.987897            1.409928   \n",
       "chlorides              0.087467   0.07900     0.002215            0.047065   \n",
       "free sulfur dioxide   15.874922  14.00000   109.414884           10.460157   \n",
       "total sulfur dioxide  46.467792  38.00000  1082.102373           32.895324   \n",
       "density                0.996747   0.99675     0.000004            0.001887   \n",
       "pH                     3.311113   3.31000     0.023835            0.154386   \n",
       "sulphates              0.658149   0.62000     0.028733            0.169507   \n",
       "alcohol               10.422983  10.20000     1.135647            1.065668   \n",
       "quality                5.636023   6.00000     0.652168            0.807569   \n",
       "\n",
       "                      outliers_number  \\\n",
       "fixed acidity                      12   \n",
       "volatile acidity                   10   \n",
       "citric acid                         1   \n",
       "residual sugar                     30   \n",
       "chlorides                          31   \n",
       "free sulfur dioxide                22   \n",
       "total sulfur dioxide               15   \n",
       "density                            18   \n",
       "pH                                  8   \n",
       "sulphates                          27   \n",
       "alcohol                             8   \n",
       "quality                            10   \n",
       "\n",
       "                                                        outliers_values  \n",
       "fixed acidity         [15.0, 15.0, 13.8, 14.0, 13.7, 13.7, 15.6, 14....  \n",
       "volatile acidity      [1.13, 1.07, 1.33, 1.33, 1.09, 1.24, 1.185, 1....  \n",
       "citric acid                                                       [1.0]  \n",
       "residual sugar        [10.7, 7.3, 7.2, 7.0, 11.0, 11.0, 7.9, 7.9, 15...  \n",
       "chlorides             [0.368, 0.341, 0.332, 0.46399999999999997, 0.4...  \n",
       "free sulfur dioxide   [52.0, 51.0, 50.0, 68.0, 68.0, 54.0, 53.0, 52....  \n",
       "total sulfur dioxide  [148.0, 153.0, 165.0, 151.0, 149.0, 147.0, 148...  \n",
       "density               [1.0032, 1.0026, 1.00315, 1.00315, 1.00315, 1....  \n",
       "pH                       [3.9, 3.85, 2.74, 3.9, 3.78, 3.78, 4.01, 4.01]  \n",
       "sulphates             [1.56, 1.28, 1.2, 1.28, 1.95, 1.22, 1.95, 1.98...  \n",
       "alcohol                [14.0, 14.0, 14.0, 14.0, 14.9, 14.0, 14.0, 14.0]  \n",
       "quality                                  [3, 3, 3, 3, 3, 3, 3, 3, 3, 3]  "
      ]
     },
     "execution_count": 5,
     "metadata": {},
     "output_type": "execute_result"
    }
   ],
   "source": [
    "summary_dataset = summary_table(red_dataset)\n",
    "summary_dataset"
   ]
  },
  {
   "cell_type": "markdown",
   "metadata": {},
   "source": [
    "summary_dataset"
   ]
  },
  {
   "cell_type": "code",
   "execution_count": 69,
   "metadata": {},
   "outputs": [
    {
     "data": {
      "image/png": "[encoded data removed]",
      "text/plain": [
       "<Figure size 1440x720 with 1 Axes>"
      ]
     },
     "metadata": {
      "needs_background": "light"
     },
     "output_type": "display_data"
    }
   ],
   "source": [
    "lista_colonne = list(red_dataset)\n",
    "plt.figure(figsize=(20,10))\n",
    "red_dataset.boxplot(column = lista_colonne[0:11], vert=False, fontsize=20)\n",
    "plt.show()"
   ]
  },
  {
   "cell_type": "code",
   "execution_count": 64,
   "metadata": {},
   "outputs": [
    {
     "data": {
      "image/png": "[encoded data removed]",
      "text/plain": [
       "<Figure size 1440x720 with 1 Axes>"
      ]
     },
     "metadata": {
      "needs_background": "light"
     },
     "output_type": "display_data"
    }
   ],
   "source": [
    "plt.figure(figsize=(20,10))\n",
    "red_dataset.diff().boxplot(vert=False,fontsize=20)\n",
    "plt.show()"
   ]
  },
  {
   "cell_type": "code",
   "execution_count": 24,
   "metadata": {},
   "outputs": [
    {
     "data": {
      "text/plain": [
       "['fixed acidity',\n",
       " 'volatile acidity',\n",
       " 'citric acid',\n",
       " 'residual sugar',\n",
       " 'chlorides',\n",
       " 'free sulfur dioxide',\n",
       " 'total sulfur dioxide',\n",
       " 'density',\n",
       " 'pH',\n",
       " 'sulphates',\n",
       " 'alcohol',\n",
       " 'quality']"
      ]
     },
     "execution_count": 24,
     "metadata": {},
     "output_type": "execute_result"
    }
   ],
   "source": [
    "red_dataset['quality'][:]\n",
    "list(red_dataset)"
   ]
  },
  {
   "cell_type": "code",
   "execution_count": 28,
   "metadata": {},
   "outputs": [
    {
     "data": {
      "text/plain": [
       "12"
      ]
     },
     "execution_count": 28,
     "metadata": {},
     "output_type": "execute_result"
    }
   ],
   "source": [
    "len(list(red_dataset))"
   ]
  },
  {
   "cell_type": "code",
   "execution_count": null,
   "metadata": {},
   "outputs": [],
   "source": []
  }
 ],
 "metadata": {
  "kernelspec": {
   "display_name": "Python 3",
   "language": "python",
   "name": "python3"
  }
 },
 "nbformat": 4,
 "nbformat_minor": 4
}
